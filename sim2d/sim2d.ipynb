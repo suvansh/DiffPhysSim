{
 "cells": [
  {
   "cell_type": "code",
   "execution_count": 1,
   "metadata": {},
   "outputs": [],
   "source": [
    "import numpy as np\n",
    "import cvxpy as cp\n",
    "from datetime import datetime\n",
    "import imageio\n",
    "import matplotlib.pyplot as plt\n",
    "%matplotlib inline\n",
    "from matplotlib.backends.backend_agg import FigureCanvasAgg as FigureCanvas"
   ]
  },
  {
   "cell_type": "markdown",
   "metadata": {},
   "source": [
    "## Simulation Parameters"
   ]
  },
  {
   "cell_type": "code",
   "execution_count": 2,
   "metadata": {},
   "outputs": [],
   "source": [
    "dt = 0.04  # timestep\n",
    "t = 4  # duration\n",
    "m = 1  # mass\n",
    "q0 = np.array([0, 0])  # init pos\n",
    "v0 = np.array([5, 0.5])  # init vel\n",
    "force = np.array([0, 10])  # init force\n",
    "g = 9.8  # gravitational acceleration\n",
    "mu = 0.05  # coefficient of friction of the plane"
   ]
  },
  {
   "cell_type": "markdown",
   "metadata": {},
   "source": [
    "## Simulation Backend"
   ]
  },
  {
   "cell_type": "code",
   "execution_count": 3,
   "metadata": {},
   "outputs": [],
   "source": [
    "class SimSystem:\n",
    "    def __init__(self, q0, v0):\n",
    "        self.q = q0\n",
    "        self.v = v0\n",
    "    \n",
    "    def step_q(self, update=True):\n",
    "        \"\"\" Find next q according to system dynamics. Store if UPDATE. \"\"\"\n",
    "        raise NotImplementedError()\n",
    "        \n",
    "    def step_v(self, update=True):\n",
    "        \"\"\" Find next v according to system dynamics. Store if UPDATE. \"\"\"\n",
    "        raise NotImplementedError()\n",
    "    \n",
    "    def plot(self, q=None):\n",
    "        \"\"\"\n",
    "        Generate a plot for current config (or for Q if specified)\n",
    "        \"\"\""
   ]
  },
  {
   "cell_type": "code",
   "execution_count": 4,
   "metadata": {},
   "outputs": [],
   "source": [
    "class Block2D(SimSystem):\n",
    "    def __init__(self, pos, vel, mass, force,\n",
    "                 dt=0.1, mu=0.3, solver='ECOS'):\n",
    "        super().__init__(pos, vel)\n",
    "        self.m = mass\n",
    "        self.f = force\n",
    "        self.dt = dt\n",
    "        self.mu = mu\n",
    "        self.solver = solver\n",
    "    \n",
    "    def step_q(self, update=True):\n",
    "        q_new = self.q + self.dt * self.v\n",
    "        if update:\n",
    "            self.q = q_new\n",
    "        return q_new\n",
    "    \n",
    "    def step_v(self, update=True):\n",
    "        b = self.get_b()\n",
    "        v_new = self.v + (b - self.dt * self.f) / self.m\n",
    "        if update:\n",
    "            self.v = v_new\n",
    "        return v_new\n",
    "    \n",
    "    def get_b(self):\n",
    "        \"\"\"\n",
    "        b = argmin(v^\\top v) s.t. b^\\top b <= (\\mu * m * g)\n",
    "        \"\"\"\n",
    "        b = cp.Variable(self.v.shape[0])\n",
    "        constraints = [cp.SOC(self.mu * self.m * g, b)]\n",
    "        z = b - self.dt * self.f\n",
    "        prob = cp.Problem(cp.Minimize(cp.norm(z, 2)**2 + 2 * self.m * (z @ self.v)),\n",
    "                          constraints)\n",
    "        prob.solve(solver=self.solver)\n",
    "        self.b = b.value  # for debugging purposes\n",
    "        return b.value\n",
    "    \n",
    "    def plot(self, q=None):\n",
    "        if q is None:\n",
    "            q = self.q\n",
    "        fig = plt.figure()\n",
    "        canvas = FigureCanvas(fig)\n",
    "        plt.xlim(-8, 8)\n",
    "        plt.ylim(-8, 8)\n",
    "        plt.plot(q[0], q[1], 'ro')\n",
    "        canvas.draw()\n",
    "        img = np.frombuffer(fig.canvas.tostring_rgb(), dtype=np.uint8)\n",
    "        img = img.reshape(fig.canvas.get_width_height()[::-1] + (3,))\n",
    "        plt.close()\n",
    "        return img"
   ]
  },
  {
   "cell_type": "markdown",
   "metadata": {},
   "source": [
    "## Run Simulation"
   ]
  },
  {
   "cell_type": "code",
   "execution_count": 5,
   "metadata": {},
   "outputs": [],
   "source": [
    "def sim(system, timesteps=10, plot=False):\n",
    "    \"\"\"\n",
    "    :param system: (SimSystem) initialized obj representing system,\n",
    "                    including functions to update q and v\n",
    "    :param timesteps: (int) number of timesteps to simulate for\n",
    "    \"\"\"\n",
    "    qs, vs = [system.q.copy()], [system.v.copy()]\n",
    "    if plot:\n",
    "        plots = [system.plot()]\n",
    "    t = 0\n",
    "    while t < timesteps:\n",
    "        qs.append(system.step_q().copy())\n",
    "        vs.append(system.step_v().copy())\n",
    "        if plot:\n",
    "            plots.append(system.plot())\n",
    "        t += system.dt\n",
    "    return qs if not plot else (qs, plots)"
   ]
  },
  {
   "cell_type": "code",
   "execution_count": 6,
   "metadata": {},
   "outputs": [],
   "source": [
    "system = Block2D(q0, v0, m, force, dt, mu)\n",
    "qs, plots = sim(system, timesteps=t, plot=True)"
   ]
  },
  {
   "cell_type": "markdown",
   "metadata": {},
   "source": [
    "## Plot"
   ]
  },
  {
   "cell_type": "code",
   "execution_count": 7,
   "metadata": {},
   "outputs": [],
   "source": [
    "time = datetime.now().strftime('%m%d%y_%H%M%S')\n",
    "imageio.mimwrite(f'sim2d_mass{m}.gif', plots, fps=int(1/dt));"
   ]
  },
  {
   "cell_type": "code",
   "execution_count": null,
   "metadata": {},
   "outputs": [],
   "source": []
  }
 ],
 "metadata": {
  "kernelspec": {
   "display_name": "Python 3",
   "language": "python",
   "name": "python3"
  },
  "language_info": {
   "codemirror_mode": {
    "name": "ipython",
    "version": 3
   },
   "file_extension": ".py",
   "mimetype": "text/x-python",
   "name": "python",
   "nbconvert_exporter": "python",
   "pygments_lexer": "ipython3",
   "version": "3.8.3"
  }
 },
 "nbformat": 4,
 "nbformat_minor": 4
}
