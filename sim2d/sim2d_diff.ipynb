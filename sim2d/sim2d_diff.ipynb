{
 "cells": [
  {
   "cell_type": "code",
   "execution_count": 1,
   "metadata": {},
   "outputs": [],
   "source": [
    "import numpy as np\n",
    "import cvxpy as cp\n",
    "import scipy as sp\n",
    "import torch\n",
    "from datetime import datetime\n",
    "import imageio\n",
    "import matplotlib.pyplot as plt\n",
    "%matplotlib inline\n",
    "from matplotlib.backends.backend_agg import FigureCanvasAgg as FigureCanvas\n",
    "from warnings import filterwarnings\n",
    "filterwarnings('ignore', category=np.ComplexWarning)"
   ]
  },
  {
   "cell_type": "markdown",
   "metadata": {},
   "source": [
    "## Simulation Parameters"
   ]
  },
  {
   "cell_type": "code",
   "execution_count": 2,
   "metadata": {},
   "outputs": [],
   "source": [
    "dt = torch.Tensor([0.04])  # timestep\n",
    "t = torch.Tensor([1])  # duration\n",
    "m = torch.Tensor([1])  # mass\n",
    "q0 = torch.Tensor([0, 0])  # init pos\n",
    "v0 = torch.Tensor([2, 2])  # init vel\n",
    "v0.requires_grad = True\n",
    "force = torch.Tensor([0, 30])  # init force\n",
    "g = torch.Tensor([9.8])  # gravitational acceleration\n",
    "mu = torch.Tensor([0.05])  # coefficient of friction of the plane"
   ]
  },
  {
   "cell_type": "markdown",
   "metadata": {},
   "source": [
    "## Simulation Backend"
   ]
  },
  {
   "cell_type": "code",
   "execution_count": 3,
   "metadata": {},
   "outputs": [],
   "source": [
    "class SimSystem:\n",
    "    def __init__(self, q0, v0):\n",
    "        self.q = q0\n",
    "        self.v = v0\n",
    "    \n",
    "    def step_q(self, update=True):\n",
    "        \"\"\" Find next q according to system dynamics. Store if UPDATE. \"\"\"\n",
    "        raise NotImplementedError()\n",
    "        \n",
    "    def step_v(self, update=True):\n",
    "        \"\"\" Find next v according to system dynamics. Store if UPDATE. \"\"\"\n",
    "        raise NotImplementedError()\n",
    "    \n",
    "    def plot(self, q=None):\n",
    "        \"\"\"\n",
    "        Generate a plot for current config (or for Q if specified)\n",
    "        \"\"\"\n",
    "        raise NotImplementedError()\n",
    "    \n",
    "    @property\n",
    "    def dim(self):\n",
    "        return self.q.shape[0]\n",
    "        "
   ]
  },
  {
   "cell_type": "code",
   "execution_count": 4,
   "metadata": {},
   "outputs": [],
   "source": [
    "class Block2D(SimSystem):\n",
    "    def __init__(self, pos, vel, mass, force,\n",
    "                 dt=dt, mu=mu, solver='eig0'):\n",
    "        super().__init__(pos, vel)\n",
    "        self.m = mass\n",
    "        self.f = force\n",
    "        self.dt = dt\n",
    "        self.mu = mu\n",
    "        self.solver = solver\n",
    "    \n",
    "    def step_q(self, update=True):\n",
    "        q_new = self.q + self.dt * self.v\n",
    "        if update:\n",
    "            self.q = q_new\n",
    "        return q_new\n",
    "    \n",
    "    def step_v(self, update=True):\n",
    "        self.b = self.get_b_eig()\n",
    "        v_new = self.v + (self.b + self.dt * self.f) / self.m\n",
    "        if update:\n",
    "            self.v = v_new\n",
    "        return v_new\n",
    "    \n",
    "#     def get_b(self):\n",
    "#         \"\"\"\n",
    "#         b = argmin(v^\\top v) s.t. b^\\top b <= (\\mu * m * g)^2. set to self.b for debugging purposes.\n",
    "#         \"\"\"\n",
    "#         if self.solver in ['eig0', 'eig1']:\n",
    "#             self.b = self.get_b_eig()\n",
    "#         else:\n",
    "#             b = cp.Variable(self.dim)\n",
    "#             constraints = [cp.SOC(self.mu * self.m * g, b)]\n",
    "#             z = b + self.dt * self.f\n",
    "#             prob = cp.Problem(cp.Minimize(cp.norm(z, 2)**2 + 2 * self.m * (z @ self.v)),\n",
    "#                               constraints)\n",
    "#             prob.solve(solver=self.solver)\n",
    "#             self.b = b.value\n",
    "#         return self.b\n",
    "    \n",
    "    def get_b_eig(self):\n",
    "        alpha = 1  # \"an arbitrary alpha > 0 (p. 10)\"\n",
    "        \"\"\" Interior case \"\"\"\n",
    "        b0 = -self.f * self.dt - self.m * self.v\n",
    "        delta = self.mu * self.m * g\n",
    "        \"\"\" Boundary case \"\"\"\n",
    "        # set up generalized eigenvalue problem\n",
    "        expr = (self.f * self.dt + self.m * self.v).reshape(self.dim, 1)\n",
    "        if self.solver == 'eig0':\n",
    "            A = -torch.cat((\n",
    "                torch.cat(((delta**2)[None], torch.zeros(self.dim, 1), expr)).T,\n",
    "                torch.cat((torch.zeros(1, self.dim), -torch.eye(self.dim), torch.eye(self.dim))).T,\n",
    "                torch.cat((expr.T, torch.eye(self.dim), torch.zeros(self.dim, self.dim))).T\n",
    "            )).float()\n",
    "            B = -torch.cat((\n",
    "                torch.zeros(1, 1 + 2*self.dim),\n",
    "                torch.cat((torch.zeros(1 + self.dim, self.dim), -torch.eye(self.dim))).T,\n",
    "                torch.cat((torch.zeros(1, self.dim), -torch.eye(self.dim), torch.zeros(self.dim, self.dim))).T\n",
    "            )).float()\n",
    "            split_sizes = [1, 2, 2]\n",
    "            sorted_largest_eig_idx = -2  # skip inf eigval\n",
    "        elif self.solver == 'eig1':\n",
    "            A = torch.cat((\n",
    "                torch.cat((torch.eye(self.dim), -torch.eye(self.dim))).T,\n",
    "                torch.cat((-torch.eye(self.dim), (expr @ expr.T) / (delta**2))).T,\n",
    "            )).float()\n",
    "            B = torch.cat((\n",
    "                torch.cat((torch.zeros(self.dim, self.dim), torch.eye(self.dim))).T,\n",
    "                torch.cat((torch.eye(self.dim), torch.zeros(self.dim, self.dim))).T\n",
    "            )).float()\n",
    "            split_sizes = [0, 2, 2]\n",
    "            sorted_largest_eig_idx = -1  # only finite eigvals\n",
    "        else:\n",
    "            raise ValueError('This function is for solvers eig0 or eig1, specifying the matrix pencil used.')\n",
    "        # solve the generalized eigenvalue problem w/o autograd\n",
    "        with torch.no_grad():\n",
    "            A_np, B_np = A.detach().numpy().astype(np.float32), B.detach().numpy().astype(np.float32)\n",
    "            eigvals_np, V_np = sp.linalg.eig(A, B)\n",
    "            eigvals_np = eigvals_np.astype(np.float32)\n",
    "            V_np = V_np.astype(np.float32)\n",
    "            eigstacks = [torch.Tensor(np.hstack((V_np[:,i], eigvals_np[i]))) for i in range(len(eigvals_np))]\n",
    "            J = [torch.from_numpy(np.block([\n",
    "                [A_np - (np.eye(4) * eigvals_np) @ B_np, -(B_np @ V_np[:,i])[:, None]],\n",
    "                [2*V_np[:,i], 0]\n",
    "            ])) for i in range(len(eigvals_np))]\n",
    "        for i, es in enumerate(eigstacks):\n",
    "            esc = es.clone()\n",
    "            subtract_val = torch.hstack((A @ esc[:-1] - esc[-1] * B @ esc[:-1], esc[:-1] @ esc[:-1] - 1))\n",
    "            assert torch.allclose(subtract_val, torch.zeros_like(subtract_val), atol=1e-2)\n",
    "            # reinsert gradients\n",
    "            es -= subtract_val\n",
    "            # register backward hook to correct for computation done outside autograd tape\n",
    "            es.register_hook(lambda grad: torch.solve(grad[:,None], J[i].T.float())[0][:,0])\n",
    "        V = torch.stack([es[:-1] for es in eigstacks]).T\n",
    "        eigvals = torch.stack([es[-1] for es in eigstacks])\n",
    "        \n",
    "        sorted_eigvals = torch.argsort(eigvals)\n",
    "        largest_eig_idx = sorted_eigvals[sorted_largest_eig_idx]\n",
    "        second_largest_eig_idx = sorted_eigvals[sorted_largest_eig_idx-1]\n",
    "        V1 = V[:, largest_eig_idx]\n",
    "        lambda_max = eigvals[largest_eig_idx]\n",
    "        gap = lambda_max - eigvals[largest_eig_idx-1]\n",
    "        _, y1, y2 = torch.split(V1, split_sizes)\n",
    "        \n",
    "        # 10**-8 const from the paper, eq 4.5\n",
    "        if gap == 0 or torch.linalg.norm(y1, ord=2) <= 10**-8 / torch.sqrt(gap):\n",
    "            # \"hard case\" (§4.1 of paper)\n",
    "            V_large = V[:, eigvals == lambda_max]\n",
    "            H = (1 + lambda_max) * torch.eye(self.dim) + alpha * V_large @ V_large.T\n",
    "            q = -torch.solve(expr, H)\n",
    "            b1 = q + (delta**2 - V1 @ V1 - q @ q) / (2 * q @ V1) * V1\n",
    "        else:\n",
    "            b1 = -torch.sign(y2 @ expr) * delta * y1 / torch.linalg.norm(y1, ord=2)\n",
    "        # having found b0 and b1, pick the one with lower objective value\n",
    "        objective = lambda arr: arr @ arr + 2 * (arr @ expr)\n",
    "        b = b0 if (objective(b0) < objective(b1)) and (torch.linalg.norm(b0) < delta) else b1\n",
    "        return b\n",
    "    \n",
    "    def plot(self, q=None):\n",
    "        if q is None:\n",
    "            q = self.q\n",
    "        fig = plt.figure()\n",
    "        canvas = FigureCanvas(fig)\n",
    "        plt.xlim(-8, 8)\n",
    "        plt.ylim(-8, 8)\n",
    "        plt.plot(q[0], q[1], 'ro')\n",
    "        canvas.draw()\n",
    "        img = np.frombuffer(fig.canvas.tostring_rgb(), dtype=np.uint8)\n",
    "        img = img.reshape(fig.canvas.get_width_height()[::-1] + (3,))\n",
    "        plt.close()\n",
    "        return img"
   ]
  },
  {
   "cell_type": "markdown",
   "metadata": {},
   "source": [
    "## Run Simulation"
   ]
  },
  {
   "cell_type": "code",
   "execution_count": 5,
   "metadata": {},
   "outputs": [],
   "source": [
    "def sim(system, time=10, plot=False, return_bs=False):\n",
    "    \"\"\"\n",
    "    :param system: (SimSystem) initialized obj representing system,\n",
    "                    including functions to update q and v\n",
    "    :param time: (float) number of seconds to simulate for\n",
    "    \"\"\"\n",
    "    #qs, vs = [system.q.detach().numpy()], [system.v.detach().numpy()]\n",
    "    qs, vs = [system.q], [system.v]\n",
    "    if plot:\n",
    "        plots = [system.plot()]\n",
    "    if return_bs:\n",
    "        bs = []\n",
    "    t = 0\n",
    "    while t < time:\n",
    "        qs.append(system.step_q())#.detach().numpy())\n",
    "        vs.append(system.step_v())#.detach().numpy())\n",
    "        if plot:\n",
    "            plots.append(system.plot())\n",
    "        if return_bs:\n",
    "            bs.append(system.b)\n",
    "        t += system.dt\n",
    "    retval = [qs]\n",
    "    if plot:\n",
    "        retval.append(plots)\n",
    "    if return_bs:\n",
    "        retval.append(bs)\n",
    "    return retval"
   ]
  },
  {
   "cell_type": "code",
   "execution_count": 6,
   "metadata": {
    "scrolled": false
   },
   "outputs": [],
   "source": [
    "system = Block2D(q0, v0, m, force, dt, mu, solver='eig1')\n",
    "qs, = sim(system, time=t, plot=False, return_bs=False)"
   ]
  },
  {
   "cell_type": "code",
   "execution_count": 7,
   "metadata": {},
   "outputs": [
    {
     "data": {
      "text/plain": [
       "tensor([ 4.3670e+12, -5.1963e+12])"
      ]
     },
     "execution_count": 7,
     "metadata": {},
     "output_type": "execute_result"
    }
   ],
   "source": [
    "torch.linalg.norm(qs[24]).backward()\n",
    "v0.grad"
   ]
  },
  {
   "cell_type": "markdown",
   "metadata": {},
   "source": [
    "## Plot"
   ]
  },
  {
   "cell_type": "code",
   "execution_count": null,
   "metadata": {},
   "outputs": [],
   "source": [
    "time = datetime.now().strftime('%m%d%y_%H%M%S')\n",
    "filename = f'gifs/sim2d_{time}.gif'\n",
    "imageio.mimwrite(filename, plots, fps=int(1/dt));"
   ]
  },
  {
   "cell_type": "code",
   "execution_count": null,
   "metadata": {},
   "outputs": [],
   "source": [
    "from IPython.display import Image\n",
    "Image(filename=filename)"
   ]
  },
  {
   "cell_type": "code",
   "execution_count": null,
   "metadata": {},
   "outputs": [],
   "source": []
  }
 ],
 "metadata": {
  "kernelspec": {
   "display_name": "Python 3",
   "language": "python",
   "name": "python3"
  },
  "language_info": {
   "codemirror_mode": {
    "name": "ipython",
    "version": 3
   },
   "file_extension": ".py",
   "mimetype": "text/x-python",
   "name": "python",
   "nbconvert_exporter": "python",
   "pygments_lexer": "ipython3",
   "version": "3.8.3"
  }
 },
 "nbformat": 4,
 "nbformat_minor": 4
}
